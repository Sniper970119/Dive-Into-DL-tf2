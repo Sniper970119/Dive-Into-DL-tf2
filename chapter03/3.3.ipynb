{
 "cells": [
  {
   "cell_type": "code",
   "execution_count": 1,
   "metadata": {
    "collapsed": true,
    "pycharm": {
     "is_executing": false
    }
   },
   "outputs": [
    {
     "name": "stdout",
     "text": [
      "2.1.0\n"
     ],
     "output_type": "stream"
    }
   ],
   "source": [
    "import tensorflow as tf\n",
    "print(tf.__version__)"
   ]
  },
  {
   "cell_type": "code",
   "execution_count": 2,
   "outputs": [],
   "source": [
    "num_input = 2\n",
    "num_example = 1000\n",
    "true_w = [2,-3.4]\n",
    "true_b = 4.2\n",
    "features = tf.random.normal(shape=(num_example,num_input),stddev=1)\n",
    "labels = true_w[0] * features[:,0]+true_w[1]*features[:,1]+true_b\n",
    "labels += tf.random.normal(labels.shape,stddev=0.01)"
   ],
   "metadata": {
    "collapsed": false,
    "pycharm": {
     "name": "#%%\n",
     "is_executing": false
    }
   }
  },
  {
   "cell_type": "code",
   "execution_count": 3,
   "outputs": [],
   "source": [
    "from tensorflow import data as tddata\n",
    "\n",
    "batch_size = 10\n",
    "# 将训练数据的特征和标签组合\n",
    "dataset = tddata.Dataset.from_tensor_slices((features,labels))\n",
    "# 随机读取小批量\n",
    "dataset = dataset.shuffle(buffer_size=num_example)\n",
    "dataset = dataset.batch(batch_size)\n",
    "data_iter = iter(dataset)"
   ],
   "metadata": {
    "collapsed": false,
    "pycharm": {
     "name": "#%%\n",
     "is_executing": false
    }
   }
  },
  {
   "cell_type": "code",
   "execution_count": 5,
   "outputs": [
    {
     "name": "stdout",
     "text": [
      "0 tf.Tensor(\n",
      "[[-1.3183944   0.88571453]\n",
      " [ 0.5582473   0.6283028 ]\n",
      " [ 0.3318851   0.30217335]\n",
      " [ 0.5585688   1.625666  ]\n",
      " [ 1.3739443  -0.2193088 ]\n",
      " [-1.1692793  -1.3866609 ]\n",
      " [ 0.76365966  1.0310326 ]\n",
      " [-1.7447253   1.4246174 ]\n",
      " [-0.4479057  -0.52858967]\n",
      " [ 0.6691452  -0.44063178]], shape=(10, 2), dtype=float32) tf.Tensor(\n",
      "[-1.4440066   3.1915112   3.8415916  -0.20795591  7.6803966   6.574926\n",
      "  2.2208211  -4.1473265   5.0976176   7.0480514 ], shape=(10,), dtype=float32)\n"
     ],
     "output_type": "stream"
    }
   ],
   "source": [
    "for (batch,(X, y)) in enumerate(dataset):\n",
    "    print(batch,X,y)\n",
    "    break"
   ],
   "metadata": {
    "collapsed": false,
    "pycharm": {
     "name": "#%%\n",
     "is_executing": false
    }
   }
  },
  {
   "cell_type": "code",
   "execution_count": 6,
   "outputs": [],
   "source": [
    "\n",
    "from tensorflow import keras\n",
    "from tensorflow import initializers as init\n",
    "\n",
    "model = keras.Sequential()\n",
    "model.add(keras.layers.Dense(1,kernel_initializer=init.RandomNormal(stddev=0.01)))"
   ],
   "metadata": {
    "collapsed": false,
    "pycharm": {
     "name": "#%%\n",
     "is_executing": false
    }
   }
  },
  {
   "cell_type": "code",
   "execution_count": 7,
   "outputs": [],
   "source": [
    "from tensorflow import losses\n",
    "\n",
    "loss = losses.MeanSquaredError()"
   ],
   "metadata": {
    "collapsed": false,
    "pycharm": {
     "name": "#%%\n",
     "is_executing": false
    }
   }
  },
  {
   "cell_type": "code",
   "execution_count": 8,
   "outputs": [],
   "source": [
    "from tensorflow import optimizers\n",
    "\n",
    "trainer = optimizers.SGD(learning_rate=0.03)"
   ],
   "metadata": {
    "collapsed": false,
    "pycharm": {
     "name": "#%%\n",
     "is_executing": false
    }
   }
  },
  {
   "cell_type": "code",
   "execution_count": 9,
   "outputs": [
    {
     "name": "stdout",
     "text": [
      "epoch 1, loss: 0.000222\n",
      "epoch 2, loss: 0.000099\n",
      "epoch 3, loss: 0.000100\n"
     ],
     "output_type": "stream"
    }
   ],
   "source": [
    "num_epochs =  3\n",
    "for epoch in range(1,num_epochs+1):\n",
    "    for (batch,(X,y)) in enumerate(dataset):\n",
    "        with tf.GradientTape() as t:\n",
    "            l = loss(model(X,training=True),y)\n",
    "        grads = t.gradient(l, model.trainable_variables)\n",
    "        trainer.apply_gradients(zip(grads,model.trainable_variables))\n",
    "    l = loss(model(features),labels)\n",
    "    print('epoch %d, loss: %f' % (epoch, l))"
   ],
   "metadata": {
    "collapsed": false,
    "pycharm": {
     "name": "#%%\n",
     "is_executing": false
    }
   }
  },
  {
   "cell_type": "code",
   "execution_count": 10,
   "outputs": [
    {
     "data": {
      "text/plain": "([2, -3.4],\n array([[ 2.0009027],\n        [-3.4000764]], dtype=float32))"
     },
     "metadata": {},
     "output_type": "execute_result",
     "execution_count": 10
    }
   ],
   "source": [
    "true_w,model.get_weights()[0]"
   ],
   "metadata": {
    "collapsed": false,
    "pycharm": {
     "name": "#%%\n",
     "is_executing": false
    }
   }
  },
  {
   "cell_type": "code",
   "execution_count": 11,
   "outputs": [
    {
     "data": {
      "text/plain": "(4.2, array([4.2001143], dtype=float32))"
     },
     "metadata": {},
     "output_type": "execute_result",
     "execution_count": 11
    }
   ],
   "source": [
    "true_b,model.get_weights()[1]"
   ],
   "metadata": {
    "collapsed": false,
    "pycharm": {
     "name": "#%%\n",
     "is_executing": false
    }
   }
  },
  {
   "cell_type": "code",
   "execution_count": null,
   "outputs": [],
   "source": [
    "\n"
   ],
   "metadata": {
    "collapsed": false,
    "pycharm": {
     "name": "#%%\n"
    }
   }
  }
 ],
 "metadata": {
  "kernelspec": {
   "display_name": "Python 3",
   "language": "python",
   "name": "python3"
  },
  "language_info": {
   "codemirror_mode": {
    "name": "ipython",
    "version": 2
   },
   "file_extension": ".py",
   "mimetype": "text/x-python",
   "name": "python",
   "nbconvert_exporter": "python",
   "pygments_lexer": "ipython2",
   "version": "2.7.6"
  },
  "pycharm": {
   "stem_cell": {
    "cell_type": "raw",
    "source": [],
    "metadata": {
     "collapsed": false
    }
   }
  }
 },
 "nbformat": 4,
 "nbformat_minor": 0
}