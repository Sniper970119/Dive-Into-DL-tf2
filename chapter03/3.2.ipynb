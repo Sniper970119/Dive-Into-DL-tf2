{
 "cells": [
  {
   "cell_type": "code",
   "execution_count": 25,
   "metadata": {
    "collapsed": true,
    "pycharm": {
     "is_executing": false
    }
   },
   "outputs": [
    {
     "name": "stdout",
     "text": [
      "2.1.0\n"
     ],
     "output_type": "stream"
    }
   ],
   "source": [
    "import tensorflow as tf\n",
    "print(tf.__version__)\n",
    "\n",
    "from matplotlib import pyplot as plt\n",
    "import random"
   ]
  },
  {
   "cell_type": "code",
   "execution_count": 26,
   "outputs": [],
   "source": [
    "num_inputs = 2\n",
    "num_examples = 1000\n",
    "true_w = [2,-3.4]\n",
    "true_b = 4.2\n",
    "# 生成标准差为1的输入数据\n",
    "features = tf.random.normal((num_examples,num_inputs),stddev=1)\n",
    "labels = true_w[0]*features[:,0]+true_w[1]*features[:,1]+true_b\n",
    "# 随机加上标准差为0.01的噪音\n",
    "labels += tf.random.normal(labels.shape,stddev=0.01)"
   ],
   "metadata": {
    "collapsed": false,
    "pycharm": {
     "name": "#%%\n",
     "is_executing": false
    }
   }
  },
  {
   "cell_type": "code",
   "execution_count": 27,
   "outputs": [
    {
     "name": "stdout",
     "text": [
      "tf.Tensor([ 0.60977983 -0.21984003], shape=(2,), dtype=float32) tf.Tensor(6.182882, shape=(), dtype=float32)\n"
     ],
     "output_type": "stream"
    }
   ],
   "source": [
    "print(features[0],labels[0])\n",
    "\n"
   ],
   "metadata": {
    "collapsed": false,
    "pycharm": {
     "name": "#%%\n",
     "is_executing": false
    }
   }
  },
  {
   "cell_type": "code",
   "execution_count": 28,
   "outputs": [
    {
     "data": {
      "text/plain": "<matplotlib.collections.PathCollection at 0x1fe7685e788>"
     },
     "metadata": {},
     "output_type": "execute_result",
     "execution_count": 28
    },
    {
     "data": {
      "text/plain": "<Figure size 252x180 with 1 Axes>",
      "image/png": "[encoded data removed]"
     },
     "metadata": {
      "needs_background": "light"
     },
     "output_type": "display_data"
    }
   ],
   "source": [
    "def set_figsize(figsize=(3.5,2.5)):\n",
    "    plt.rcParams['figure.figsize'] = figsize\n",
    "    \n",
    "set_figsize()\n",
    "plt.scatter(features[:,1],labels,c='r',s=1)"
   ],
   "metadata": {
    "collapsed": false,
    "pycharm": {
     "name": "#%%\n",
     "is_executing": false
    }
   }
  },
  {
   "cell_type": "code",
   "execution_count": 29,
   "outputs": [],
   "source": [
    "def data_iter(batch_size,features,labels):\n",
    "    num_examples = len(features)\n",
    "    indices = list(range(num_examples))\n",
    "    random.shuffle(indices)\n",
    "    for i in range(0,num_examples,batch_size):\n",
    "        j = indices[i:min(i+batch_size,num_examples)]\n",
    "        # gather 根据indices切片\n",
    "        yield tf.gather(features,axis=0,indices=j),tf.gather(labels,axis=0,indices=j)"
   ],
   "metadata": {
    "collapsed": false,
    "pycharm": {
     "name": "#%%\n",
     "is_executing": false
    }
   }
  },
  {
   "cell_type": "code",
   "execution_count": 30,
   "outputs": [
    {
     "name": "stdout",
     "text": [
      "tf.Tensor(\n",
      "[[-1.568652    1.1892316 ]\n",
      " [ 0.02704381 -1.2114034 ]\n",
      " [ 0.54140687  0.6874146 ]\n",
      " [-0.3238443  -0.7069099 ]\n",
      " [ 0.670013    1.0555037 ]\n",
      " [ 1.4785416  -0.02862001]\n",
      " [-1.5540386  -0.90648144]\n",
      " [-2.657925   -0.34048915]\n",
      " [-0.13981636  0.45385957]\n",
      " [-0.0776669  -0.02562523]\n",
      " [ 0.15774341  1.3849018 ]\n",
      " [ 0.9904404   0.49320254]\n",
      " [-0.5353007   1.9172873 ]\n",
      " [-0.7673046   1.2029607 ]\n",
      " [ 1.9484698  -0.25718805]\n",
      " [-1.5775664   0.23291822]\n",
      " [ 1.2565771  -0.39332908]\n",
      " [ 0.5235608  -0.60813963]\n",
      " [ 0.2633382  -1.6159766 ]\n",
      " [ 1.8978524   1.3576044 ]\n",
      " [-0.40452728  0.02824024]\n",
      " [-0.6108405   0.1997418 ]\n",
      " [ 0.28169724 -1.2480029 ]\n",
      " [ 1.1958692   2.5761182 ]\n",
      " [-0.01832403  0.2854444 ]\n",
      " [ 0.02692759 -0.79011744]\n",
      " [ 1.9638565   0.14134032]\n",
      " [-0.53969157 -1.1126633 ]\n",
      " [ 1.3907293  -1.3411927 ]\n",
      " [-1.2987695   1.61959   ]\n",
      " [-2.0938413  -0.20309015]\n",
      " [-0.9750384   0.8229153 ]\n",
      " [-1.7626753   0.4005635 ]\n",
      " [ 0.22338685 -0.72602   ]\n",
      " [-0.21097755 -0.3210915 ]\n",
      " [-1.3122041   2.3579533 ]\n",
      " [-0.3418174  -1.2656993 ]\n",
      " [-1.5983564  -0.02388086]\n",
      " [-1.0887327  -0.6083594 ]\n",
      " [ 0.16343872 -1.0361065 ]\n",
      " [ 0.4365194   1.3847867 ]\n",
      " [ 0.2617833   0.9032589 ]\n",
      " [ 0.5480683   1.3676795 ]\n",
      " [-0.73368275  2.49532   ]\n",
      " [-1.5379615   0.891124  ]\n",
      " [ 0.20122519 -0.00788717]\n",
      " [ 0.5612905  -0.9636846 ]\n",
      " [-0.08743163  0.31147835]\n",
      " [ 1.6043682   0.913555  ]\n",
      " [-1.4654535  -0.648391  ]\n",
      " [-0.45734385 -2.094514  ]\n",
      " [-0.05061309  0.68695724]\n",
      " [-0.05295819  0.1176275 ]\n",
      " [ 0.5119573   0.04384377]\n",
      " [-0.88304853 -0.26165497]\n",
      " [-0.39841247  0.13567868]\n",
      " [ 1.6472635   1.2322218 ]\n",
      " [-0.1735344   0.5267474 ]\n",
      " [-0.8581472   0.30082825]\n",
      " [ 0.45566842 -0.07357331]\n",
      " [-0.747671   -0.27977103]\n",
      " [-0.40926522 -1.5160431 ]\n",
      " [ 1.0966959   1.6514026 ]\n",
      " [-0.4333734   0.10984586]], shape=(64, 2), dtype=float32) tf.Tensor(\n",
      "[-2.9873667   8.377133    2.946247    5.9545803   1.9532868   7.249343\n",
      "  4.1806116   0.03477701  2.3633275   4.1365757  -0.18981844  4.5226593\n",
      " -3.3917785  -1.4252613   8.998332    0.23443112  8.046925    7.302883\n",
      " 10.212007    3.4053535   3.2838557   2.3075964   8.993652   -2.153344\n",
      "  3.205419    6.938238    7.631661    6.9013247  11.54775    -3.912147\n",
      "  0.70706934 -0.5570358  -0.70196784  7.121228    4.8730345  -6.4330792\n",
      "  7.812588    1.0836437   4.1145034   8.063896    0.35680652  1.6736523\n",
      "  0.64509416 -5.7431006  -1.9141186   4.6364574   8.593288    2.9628947\n",
      "  4.298334    3.4748955  10.410857    1.7619439   3.6892602   5.0799007\n",
      "  3.3337908   2.9197962   3.3119173   2.0573657   1.463488    5.371661\n",
      "  3.6591358   8.535518    0.78479844  2.942409  ], shape=(64,), dtype=float32)\n"
     ],
     "output_type": "stream"
    }
   ],
   "source": [
    "batch_size = 64\n",
    "\n",
    "for X,y in data_iter(batch_size,features,labels):\n",
    "    print(X,y)\n",
    "    break"
   ],
   "metadata": {
    "collapsed": false,
    "pycharm": {
     "name": "#%%\n",
     "is_executing": false
    }
   }
  },
  {
   "cell_type": "code",
   "execution_count": 31,
   "outputs": [],
   "source": [
    "# 初始化参数\n",
    "w = tf.Variable(tf.random.normal((num_inputs,1),stddev=0.01))\n",
    "b = tf.Variable(tf.zeros((1,)))"
   ],
   "metadata": {
    "collapsed": false,
    "pycharm": {
     "name": "#%%\n",
     "is_executing": false
    }
   }
  },
  {
   "cell_type": "code",
   "execution_count": 32,
   "outputs": [],
   "source": [
    "def linreg(X,w,b):\n",
    "    return tf.matmul(X,w)+b"
   ],
   "metadata": {
    "collapsed": false,
    "pycharm": {
     "name": "#%%\n",
     "is_executing": false
    }
   }
  },
  {
   "cell_type": "code",
   "execution_count": 33,
   "outputs": [],
   "source": [
    "def squared_loss(y_hat,y):\n",
    "    return (y_hat-tf.reshape(y,y_hat.shape))**2/2"
   ],
   "metadata": {
    "collapsed": false,
    "pycharm": {
     "name": "#%%\n",
     "is_executing": false
    }
   }
  },
  {
   "cell_type": "code",
   "execution_count": 34,
   "outputs": [],
   "source": [
    "# 更新参数\n",
    "def sgd(params,lr,batch_size,grads):\n",
    "    for i,param in enumerate(params):\n",
    "        param.assign_sub(lr*grads[i]/batch_size)"
   ],
   "metadata": {
    "collapsed": false,
    "pycharm": {
     "name": "#%%\n",
     "is_executing": false
    }
   }
  },
  {
   "cell_type": "code",
   "execution_count": 35,
   "outputs": [
    {
     "name": "stdout",
     "text": [
      "epoch %d, loss %f\n",
      "epoch %d, loss %f\n",
      "epoch %d, loss %f\n"
     ],
     "output_type": "stream"
    }
   ],
   "source": [
    "lr = 0.03\n",
    "num_epochs = 3\n",
    "net = linreg\n",
    "loss = squared_loss\n",
    "\n",
    "for epoch in range(num_epochs):\n",
    "    for X,y in data_iter(batch_size,features,labels):\n",
    "        with tf.GradientTape() as t:\n",
    "            t.watch([w,b])\n",
    "            # 定义损失函数\n",
    "            l = loss(net(X,w,b),y)\n",
    "        grads = t.gradient(l,[w,b])\n",
    "        sgd([w,b],lr,batch_size,grads)\n",
    "    train_l = loss(net(features,w,b),labels)\n",
    "    print('epoch %d, loss %f'.format(epoch+1,tf.reduce_mean(train_l)))"
   ],
   "metadata": {
    "collapsed": false,
    "pycharm": {
     "name": "#%%\n",
     "is_executing": false
    }
   }
  },
  {
   "cell_type": "code",
   "execution_count": 36,
   "outputs": [
    {
     "name": "stdout",
     "text": [
      "[2, -3.4] <tf.Variable 'Variable:0' shape=(2, 1) dtype=float32, numpy=\n",
      "array([[ 1.6446801],\n",
      "       [-2.5876393]], dtype=float32)>\n",
      "4.2 <tf.Variable 'Variable:0' shape=(1,) dtype=float32, numpy=array([3.159864], dtype=float32)>\n"
     ],
     "output_type": "stream"
    }
   ],
   "source": [
    "print(true_w,w)\n",
    "print(true_b,b)\n",
    "\n"
   ],
   "metadata": {
    "collapsed": false,
    "pycharm": {
     "name": "#%%\n",
     "is_executing": false
    }
   }
  }
 ],
 "metadata": {
  "kernelspec": {
   "display_name": "Python 3",
   "language": "python",
   "name": "python3"
  },
  "language_info": {
   "codemirror_mode": {
    "name": "ipython",
    "version": 2
   },
   "file_extension": ".py",
   "mimetype": "text/x-python",
   "name": "python",
   "nbconvert_exporter": "python",
   "pygments_lexer": "ipython2",
   "version": "2.7.6"
  },
  "pycharm": {
   "stem_cell": {
    "cell_type": "raw",
    "source": [],
    "metadata": {
     "collapsed": false
    }
   }
  }
 },
 "nbformat": 4,
 "nbformat_minor": 0
}